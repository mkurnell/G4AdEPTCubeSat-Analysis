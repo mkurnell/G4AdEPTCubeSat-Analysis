{
 "cells": [
  {
   "cell_type": "code",
   "execution_count": 2,
   "metadata": {
    "collapsed": false
   },
   "outputs": [
    {
     "ename": "SyntaxError",
     "evalue": "invalid syntax (<ipython-input-2-0100bcae78cf>, line 2)",
     "output_type": "error",
     "traceback": [
      "\u001b[1;36m  File \u001b[1;32m\"<ipython-input-2-0100bcae78cf>\"\u001b[1;36m, line \u001b[1;32m2\u001b[0m\n\u001b[1;33m    By Andrei R. Hanu - <andrei.hanu@nasa.gov>\u001b[0m\n\u001b[1;37m            ^\u001b[0m\n\u001b[1;31mSyntaxError\u001b[0m\u001b[1;31m:\u001b[0m invalid syntax\n"
     ]
    }
   ],
   "source": [
    "# Geometric factor calculations using Monte Carlo simulation data \n",
    "By Andrei R. Hanu - <andrei.hanu@nasa.gov>\n",
    "\n",
    "## Introduction\n",
    "\n",
    "The geometric factor ($\\bf{G}$, units of cm$^2$ sr) of a particle detector is analogous to the \"collecting power\" of an optical telescope and is a function of the surface area of the instrument and detection efficiency, which itself is a function of the charge, mass, and energy of the incident particles. If the detector's geometry factor is known, the spatial differential flux ($\\bf{\\Phi}$, units of particles cm$^{-2}$ sr$^{-1}$ sec$^{-1}$) incident on the detector can be calculated from the counting rate ($\\bf{N_D}$, units of particles $sec^{-1}$). So very simply, the geometric factor is defined as the counts received by a detector per unit time divided by the spatial differential flux around the instrument.\n",
    "\n",
    "$$ G = \\frac{N_D}{J} $$\n",
    "\n",
    "** Note: For radiation risk assesment calculations, the flux is typically measured in energy bins with units of particles cm$^{-2}$ sr$^{-1}$ sec$^{-1}$ MeV$^{-1}$ **\n",
    "\n",
    "Tradiationally, a detector's geometric factor has usually been estimated by approximation, however, only a few analytical solutions exist for simple source and detector geometries - see Sullivan (1971). For more complicated detector geometries, including electronic coincidence/anti-coincidence logic, an analytical solution might be difficult, or even impossible, to derive in the closed form. In such cases, the Monte Carlo technique is employed to compute the geometrical factor, see Crannell et al. (1971), by surrounded the detector geometry with a spherical source and assuming an isotropic radiation environment. Although, you can also apply this technique to anisotropic radiation environments. \n",
    "\n",
    "## Isotropic Radiation\n",
    "\n",
    "\n",
    "\n",
    "## Source Normalization\n",
    "\n",
    "For isotropic radiation environments, the number of particles $\\bf{N_R}$ traversing a sphere is determined by the integrating the spatial differential flux over the surface area of the sphere and solid angle.\n",
    "\n",
    "$$ N_R = \\int_{\\Omega}\\int_{S} JdSd\\Omega $$\n",
    "\n",
    "Where the differential surface area ($\\bf{dS}$) and differential solid angle ($\\bf{d\\Omega}$) in spherical coordinates is:\n",
    "\n",
    "$$ dS = R^2 sin \\theta d\\theta d\\phi $$\n",
    "\n",
    "$$ d\\Omega = sin \\theta d\\theta d\\phi $$\n",
    "\n",
    "Working through the integral, we see that the number of particles $\\bf{N_R}$ traversing a sphere is:\n",
    "\n",
    "$$ N_R = 4 \\pi^2 R^2 J $$\n",
    "\n",
    "And it depends on:\n",
    "\n",
    "- The radius (ie. bigger sphere == more particles crossing the sphere)\n",
    "- The spatial differential flux (ie. more flux == more particles crossing the sphere)\n",
    "\n",
    "Finally, by using Eq.1 and Eq. 5 the geometric factor for an isotropic radiation environments can be written as follows:\n",
    "\n",
    "$$ G = \\frac{N_D}{N_R}4 \\pi^2 R^2 $$\n",
    "\n",
    "Where:\n",
    "\n",
    "- $N_D$ is the number of particles interacting with the detector model\n",
    "- $N_R$ is the total number of simulated particles\n",
    "- $R$ is the radius of the spherical source encircling the detector model\n",
    "\n",
    "The associated standard deviation ($\\bf{\\sigma_G}$) is obtained from the binomial distribution and follows:\n",
    "\n",
    "$$ \\sigma_G = 4\\pi^2R^2 \\sqrt{\\left(1-\\frac{N_D}{N_R}\\right)\\frac{N_D}{N_R^2}} $$\n",
    "\n",
    "## Monte Carlo method\n",
    "\n",
    "To calculate the geometric factor of a detector using the Monte Carlo method, the following steps need to be taken:\n",
    "\n",
    "- The detector geometry, or a simplified model, should be implemented in your favourite Monte Carlo particle transport  code (Geant4, MCNP, FLUKA, EGS, etc)\n",
    "\n",
    "If an isotropic flux, typical of space-borne instruments, is assumed:\n",
    "\n",
    "- The detector geometry is enveloped by a spherical source such that the spectral, spatial, and angular distribution of primary particles can be specified\n",
    "\n",
    "- The primary particles must be uniformly distributed over the entire surface of spherical source\n",
    "- The angular distribution for the emission of primary particles must follow a cosine-law distribution\n",
    "\n",
    "## References\n",
    "\n",
    "+ Sullivan, J. D. \"Geometric factor and directional response of single and multi-element particle telescopes.\" Nuclear Instruments and methods 95.1 (1971): 5-11.\n",
    "\n",
    "+ Crannell, C. J., and J. F. Ormes. \"Geometrical-factor determination using a monte carlo approach.\" Nuclear Instruments and Methods 94.1 (1971): 179-183.\n",
    "\n",
    "+ Sanderson, T. R., and D. E. Page. \"Geometrical aspects of the performance of cosmic ray detector telescopes in non-isotropic particle distributions.\" Nuclear Instruments and Methods 104.3 (1972): 493-504.\n"
   ]
  },
  {
   "cell_type": "code",
   "execution_count": 43,
   "metadata": {
    "collapsed": false
   },
   "outputs": [],
   "source": [
    "# Matplotlib - 2D plotting library\n",
    "from matplotlib import pyplot as plt\n",
    "from matplotlib import rcParams\n",
    "\n",
    "# Show matplotlib figures inline the notebook\n",
    "%matplotlib inline\n",
    "\n",
    "# Pandas - High-performance data analysis\n",
    "import pandas\n",
    "\n",
    "# Glob - Unix style pathname pattern expansion\n",
    "# Used to aggregate folders and files into a single list so they can be iterated over\n",
    "import glob\n",
    "\n",
    "# Numpy - For handling of large, multi-dimensional arrays and matrices\n",
    "import numpy as np\n",
    "from numpy.linalg import solve\n",
    "\n",
    "# Scipy - For accurate integration\n",
    "from scipy.integrate import simps\n",
    "from scipy.integrate import trapz\n",
    "from scipy.optimize import curve_fit\n",
    "import scipy.odr as sc\n",
    "\n",
    "##########################################################################################\n",
    "# Setting rcParams for publication quality graphs\n",
    "fig_width_pt = 246.0                    # Get this from LaTeX using \\showthe\\columnwidth\n",
    "inches_per_pt = 1.0/72.27               # Convert pt to inch\n",
    "golden_mean = (np.sqrt(5)-1.0)/2.0      # Aesthetic ratio\n",
    "fig_width = fig_width_pt*inches_per_pt  # Width in inches\n",
    "fig_height = fig_width*golden_mean      # Height in inches\n",
    "fig_size =  [fig_width, fig_height]\n",
    "# fig_size =  [fig_height,fig_width]\n",
    "fig_size =  [7.3,4.2]\n",
    "# fig_size =  [4.2,7.3]\n",
    "# fig_size =  [7.3*1.5,4.2*1.5]\n",
    "# fig_size =  [7.3*2,4.2*2]\n",
    "params = {'backend': 'pdf',\n",
    "        'axes.labelsize': 10,\n",
    "        'legend.fontsize': 9,\n",
    "        'xtick.labelsize': 10,\n",
    "        'ytick.labelsize': 10,\n",
    "        'xtick.major.size': 6,\n",
    "        'xtick.major.width': 1,\n",
    "        'xtick.minor.size': 2.5,\n",
    "        'xtick.minor.width': 1,\n",
    "        'ytick.major.size': 6,\n",
    "        'ytick.major.width': 1,\n",
    "        'ytick.minor.size': 2.5,\n",
    "        'ytick.minor.width': 1,\n",
    "        'font.family': 'times-new-roman',\n",
    "        'font.sans-serif': 'Times New Roman',\n",
    "        'font.size': 10,\n",
    "        'text.usetex': True,\n",
    "        'figure.figsize': fig_size}\n",
    "\n",
    "# Update rcParams\n",
    "rcParams.update(params)"
   ]
  },
  {
   "cell_type": "code",
   "execution_count": 55,
   "metadata": {
    "collapsed": false
   },
   "outputs": [
    {
     "name": "stdout",
     "output_type": "stream",
     "text": [
      "[     10      20      30      40      50      60      70      80      90\n",
      "     100     200     300     400     500     600     700     800     900\n",
      "    1000    1100    1200    1300    1400    1500    1600    1700    1800\n",
      "    1900    2000    3000    4000    5000    6000    7000    8000    9000\n",
      "   10000   20000   30000   40000   50000   60000   70000   80000   90000\n",
      "  100000  200000  300000  400000  500000  600000  700000  800000  900000\n",
      " 1000000]\n"
     ]
    }
   ],
   "source": [
    "##########################################################################################\n",
    "# Energy of incident (input) particles\n",
    "InputEnergies = np.array([np.linspace(10,90, num=9, endpoint=True, dtype = int),\n",
    "                          np.linspace(100,900, num=9, endpoint=True, dtype = int),\n",
    "                          np.linspace(1100,1900, num=9, endpoint=True, dtype = int),\n",
    "                          np.linspace(1000,9000, num=9, endpoint=True, dtype = int),\n",
    "                          np.linspace(10000,90000, num=9, endpoint=True, dtype = int),\n",
    "                          np.linspace(100000,900000, num=9, endpoint=True, dtype = int),\n",
    "                            ]).flatten()\n",
    "\n",
    "# Arrange the array into the proper order\n",
    "# InputEnergies = np.delete(InputEnergies,18)\n",
    "# InputEnergies = np.insert(InputEnergies, [9], [1000])\n",
    "# InputEnergies = np.insert(InputEnergies, [45], [1000000])\n",
    "InputEnergies = np.delete(InputEnergies,27)\n",
    "InputEnergies = np.insert(InputEnergies, [18], [1000])\n",
    "InputEnergies = np.insert(InputEnergies, [54], [1000000])\n",
    "# ##########################################################################################\n",
    "# Energy thresholds (in eV) for events that will be included in the analysis\n",
    "Thr_Gas = 100.\n",
    "print InputEnergies"
   ]
  },
  {
   "cell_type": "code",
   "execution_count": 56,
   "metadata": {
    "collapsed": true
   },
   "outputs": [],
   "source": [
    "##########################################################################################\n",
    "# Import Data for use by the program.\n",
    "# This data is generated by the file G4AdEPTCubeSat-DataProcessing\n",
    "\n",
    "GammaData = '../G4AdEPTCubeSat_Results/Gamma_Data/gamma_Data.csv'\n",
    "\n",
    "Data = pandas.read_csv(GammaData, usecols=[1,2,3,4,5,6,7,8,9,10,11], comment=\"#\", error_bad_lines=False, skip_blank_lines=True).values\n",
    "# Columns for np array Data\n",
    "# Column 0: Incident photon energy\n",
    "# Column 1: Number of Positrons which deposited energy\n",
    "# Column 2: Number of Electrons which deposited energy\n",
    "# Column 3: Number of Positron energy depositions below threshold\n",
    "# Column 4: Number of Electron energy depositions below threshold\n",
    "# Column 5: Number of total events which deposited energy above threshold\n",
    "# Column 6: Number of total events below threshold\n",
    "# Column 7: Number of Compton Scattering events\n",
    "# Column 8: Number of Pair Production events\n",
    "# Column 9: Number of Photoelectric events\n",
    "# Column 10: Number of Triton creation events"
   ]
  },
  {
   "cell_type": "code",
   "execution_count": 57,
   "metadata": {
    "collapsed": false,
    "scrolled": true
   },
   "outputs": [],
   "source": [
    "##########################################################################################\n",
    "# Calculate the geometry factor (G) assuming an isotropic radiation environment.\n",
    "# The detector is centered on, and encircled by, a spherical source of radius (R) and\n",
    "# with N_R simulated particles distributed uniformly along the inner surface.\n",
    "# Everything with the suffix _2 is from the group which had 1 000 000 000 photons\n",
    "\n",
    "# Source information (Get this from the Geant4 simulation!!)\n",
    "N_R = 100000000.\n",
    "N_R_2 = 1000000000.\n",
    "R = 10.\n",
    "\n",
    "\n",
    "# # Calculate the geometry factors\n",
    "# G_Pair_1 = Data[0:10,8]/N_R*4*(np.pi**2)*(R**2)\n",
    "# G_Total_1 = Data[0:10,5]/N_R*4*(np.pi**2)*(R**2)\n",
    "\n",
    "# G_Pair_2 = Data[10:19,8]/N_R_2*4*(np.pi**2)*(R**2)\n",
    "# G_Total_2 = Data[10:19,5]/N_R_2*4*(np.pi**2)*(R**2)\n",
    "\n",
    "# G_Pair_3 = Data[19:,8]/N_R*4*(np.pi**2)*(R**2)\n",
    "# G_Total_3 = Data[19:,5]/N_R*4*(np.pi**2)*(R**2)\n",
    "\n",
    "# G_Pair = np.ndarray([])\n",
    "# G_Pair_temp = np.ndarray([])\n",
    "# G_Pair_temp = np.append(G_Pair_1,G_Pair_2)\n",
    "# G_Pair = np.append(G_Pair_temp,G_Pair_3)\n",
    "\n",
    "# G_Total = np.ndarray([])\n",
    "# G_Total_temp = np.ndarray([])\n",
    "# G_Total_temp = np.append(G_Total_1,G_Total_2)\n",
    "# G_Total = np.append(G_Total_temp,G_Total_3)\n",
    "\n",
    "# # Calculate the errors for geometry factors \n",
    "# err_G_Pair_1 = 4*(np.pi**2)*(R**2)*np.sqrt((1-Data[0:10,8]/N_R)*Data[0:10,8]/N_R**2)\n",
    "# err_G_Total_1 = 4*(np.pi**2)*(R**2)*np.sqrt((1-Data[0:10,5]/N_R)*Data[0:10,5]/N_R**2)\n",
    "\n",
    "# err_G_Pair_2 = 4*(np.pi**2)*(R**2)*np.sqrt((1-Data[10:19,8]/N_R_2)*Data[10:19,8]/N_R_2**2)\n",
    "# err_G_Total_2 = 4*(np.pi**2)*(R**2)*np.sqrt((1-Data[10:19,5]/N_R_2)*Data[10:19,5]/N_R_2**2)\n",
    "\n",
    "# err_G_Pair_3 = 4*(np.pi**2)*(R**2)*np.sqrt((1-Data[19:,8]/N_R)*Data[19:,8]/N_R**2)\n",
    "# err_G_Total_3 = 4*(np.pi**2)*(R**2)*np.sqrt((1-Data[19:,5]/N_R)*Data[19:,5]/N_R**2)\n",
    "\n",
    "\n",
    "# err_G_Pair = np.array([])\n",
    "# err_G_Pair_temp = np.array([])\n",
    "# err_G_Pair_temp = np.append(err_G_Pair_1,err_G_Pair_2)\n",
    "# err_G_Pair = np.append(err_G_Pair_temp,err_G_Pair_3)\n",
    "\n",
    "# err_G_Total = np.array([])\n",
    "# err_G_Total_temp = np.array([])\n",
    "# err_G_Total_temp = np.append(err_G_Pair_1,err_G_Pair_2)\n",
    "# err_G_Total = np.append(err_G_Total_temp,err_G_Total_3)\n",
    "\n",
    "# # Calculate relative errors for the geometry factors\n",
    "# relErr_G_Total = err_G_Total/G_Total\n",
    "# relErr_G_Pair = err_G_Pair/G_Pair\n",
    "\n",
    "\n",
    "# Calculate the geometry factors\n",
    "G_Pair_1 = Data[0:19,8]/N_R*4*(np.pi**2)*(R**2)\n",
    "G_Total_1 = Data[0:19,5]/N_R*4*(np.pi**2)*(R**2)\n",
    "\n",
    "G_Pair_2 = Data[19:28,8]/N_R_2*4*(np.pi**2)*(R**2)\n",
    "G_Total_2 = Data[19:28,5]/N_R_2*4*(np.pi**2)*(R**2)\n",
    "\n",
    "G_Pair_3 = Data[28:,8]/N_R*4*(np.pi**2)*(R**2)\n",
    "G_Total_3 = Data[28:,5]/N_R*4*(np.pi**2)*(R**2)\n",
    "\n",
    "G_Pair = np.ndarray([])\n",
    "G_Pair_temp = np.ndarray([])\n",
    "G_Pair_temp = np.append(G_Pair_1,G_Pair_2)\n",
    "G_Pair = np.append(G_Pair_temp,G_Pair_3)\n",
    "\n",
    "G_Total = np.ndarray([])\n",
    "G_Total_temp = np.ndarray([])\n",
    "G_Total_temp = np.append(G_Total_1,G_Total_2)\n",
    "G_Total = np.append(G_Total_temp,G_Total_3)\n",
    "\n",
    "# Calculate the errors for geometry factors \n",
    "err_G_Pair_1 = 4*(np.pi**2)*(R**2)*np.sqrt((1-Data[0:19,8]/N_R)*Data[0:19,8]/N_R**2)\n",
    "err_G_Total_1 = 4*(np.pi**2)*(R**2)*np.sqrt((1-Data[0:19,5]/N_R)*Data[0:19,5]/N_R**2)\n",
    "\n",
    "err_G_Pair_2 = 4*(np.pi**2)*(R**2)*np.sqrt((1-Data[19:28,8]/N_R_2)*Data[19:28,8]/N_R_2**2)\n",
    "err_G_Total_2 = 4*(np.pi**2)*(R**2)*np.sqrt((1-Data[19:28,5]/N_R_2)*Data[19:28,5]/N_R_2**2)\n",
    "\n",
    "err_G_Pair_3 = 4*(np.pi**2)*(R**2)*np.sqrt((1-Data[28:,8]/N_R)*Data[28:,8]/N_R**2)\n",
    "err_G_Total_3 = 4*(np.pi**2)*(R**2)*np.sqrt((1-Data[28:,5]/N_R)*Data[28:,5]/N_R**2)\n",
    "\n",
    "err_G_Pair = np.array([])\n",
    "err_G_Pair_temp = np.array([])\n",
    "err_G_Pair_temp = np.append(err_G_Pair_1,err_G_Pair_2)\n",
    "err_G_Pair = np.append(err_G_Pair_temp,err_G_Pair_3)\n",
    "\n",
    "err_G_Total = np.array([])\n",
    "err_G_Total_temp = np.array([])\n",
    "err_G_Total_temp = np.append(err_G_Pair_1,err_G_Pair_2)\n",
    "err_G_Total = np.append(err_G_Total_temp,err_G_Total_3)\n",
    "\n",
    "# np.savetxt(\"Energies.csv\", InputEnergies/1000., delimiter=\",\")\n",
    "# np.savetxt(\"G_Total.csv\", G_Total, delimiter=\",\")\n",
    "# np.savetxt(\"err_G_Pair.csv\", err_G_Pair, delimiter=\",\")\n",
    "# np.savetxt(\"err_G_Total.csv\", err_G_Total, delimiter=\",\")\n",
    "\n",
    "# Calculate relative errors for the geometry factors\n",
    "relErr_G_Total = err_G_Total/G_Total\n",
    "relErr_G_Pair = err_G_Pair/G_Pair"
   ]
  },
  {
   "cell_type": "code",
   "execution_count": 58,
   "metadata": {
    "collapsed": false
   },
   "outputs": [
    {
     "name": "stdout",
     "output_type": "stream",
     "text": [
      "Plot saved to: ../G4AdEPTCubeSat_Results/Gammas/Geometric_Factor_Gamma.pdf\n"
     ]
    },
    {
     "data": {
      "image/png": "[encoded data removed]",
      "text/plain": [
       "<matplotlib.figure.Figure at 0x7f01fac60c50>"
      ]
     },
     "metadata": {},
     "output_type": "display_data"
    }
   ],
   "source": [
    "##########################################################################################\n",
    "# Plot the Geometry Factor over a range of particle energies\n",
    "figG, axG = plt.subplots(1,1)\n",
    "\n",
    "plt.loglog(Data[:,0]/1000., G_Total, 'k.-', linewidth=0.75, label=\"Total\")\n",
    "plt.loglog(Data[:,0]/1000., G_Pair, 'b.-', linewidth=0.75, label=\"Pair Production\")\n",
    "\n",
    "# Figure Properties\n",
    "axG.set_ylabel(r'Geometric Factor (cm$^2$ sr)')  \n",
    "axG.set_xlabel('Incident Photon Energy (MeV)') \n",
    "axG.set_ylim(1e-4, 1e2)\n",
    "axG.set_xlim(1e-2, 1000)\n",
    "\n",
    "axG.legend(loc='lower right')\n",
    "\n",
    "# Tight Layout\n",
    "plt.tight_layout()\n",
    "\n",
    "# Save the figure \n",
    "file_figG = 'Geometric_Factor_Gamma.pdf'\n",
    "plt.savefig(DataFolder + file_figG, bbox_inches=\"tight\")\n",
    "print 'Plot saved to: ' + (DataFolder+file_figG)\n",
    "\n",
    "# Show the figure\n",
    "plt.show(figG)"
   ]
  },
  {
   "cell_type": "code",
   "execution_count": 59,
   "metadata": {
    "collapsed": false
   },
   "outputs": [
    {
     "name": "stdout",
     "output_type": "stream",
     "text": [
      "Plot saved to: ../G4AdEPTCubeSat_Results/Gammas/Gamma_Flux.pdf\n"
     ]
    },
    {
     "data": {
      "image/png": "[encoded data removed]",
      "text/plain": [
       "<matplotlib.figure.Figure at 0x7f01fdb08150>"
      ]
     },
     "metadata": {},
     "output_type": "display_data"
    },
    {
     "name": "stdout",
     "output_type": "stream",
     "text": [
      "55 55 55\n"
     ]
    }
   ],
   "source": [
    "##########################################################################################\n",
    "# Calculate the differential Gamma-ray flux spectrum\n",
    "Energies_MeV = InputEnergies/1000.\n",
    "ETFlux = 40.*10**(-4)*(Energies_MeV**(-2.15))\n",
    "\n",
    "figF, axF = plt.subplots(1,1)\n",
    "\n",
    "plt.loglog(Energies_MeV,ETFlux, 'b.-')\n",
    "\n",
    "# Figure Properties\n",
    "axF.set_ylabel(r'Differential Gamma-ray Flux (ph s$^{-1}$ cm$^{-2}$ sr$^{-1}$ MeV$^{-1}$)')  \n",
    "axF.set_xlabel('Incident Photon Energy (MeV)') \n",
    "# axF.set_ylim(10**-9, 10**-2)\n",
    "# axF.set_xlim(1, 1000)\n",
    "\n",
    "# Tight Layout\n",
    "plt.tight_layout()\n",
    "\n",
    "# Save the figure \n",
    "file_figF = 'Gamma_Flux.pdf'\n",
    "plt.savefig(DataFolder + file_figF, bbox_inches=\"tight\")\n",
    "print 'Plot saved to: ' + (DataFolder+file_figF)\n",
    "\n",
    "# Show the figure\n",
    "plt.show(figF)"
   ]
  },
  {
   "cell_type": "code",
   "execution_count": 63,
   "metadata": {
    "collapsed": false,
    "scrolled": true
   },
   "outputs": [
    {
     "name": "stdout",
     "output_type": "stream",
     "text": [
      "Plot saved to: ../G4AdEPTCubeSat_Results/Gammas/Differential_Count_Rate.pdf\n"
     ]
    },
    {
     "data": {
      "image/png": "[encoded data removed]",
      "text/plain": [
       "<matplotlib.figure.Figure at 0x7f01fdb98150>"
      ]
     },
     "metadata": {},
     "output_type": "display_data"
    },
    {
     "name": "stdout",
     "output_type": "stream",
     "text": [
      "Plot saved to: ../G4AdEPTCubeSat_Results/Gammas/Integral_Count_Rate.pdf\n"
     ]
    },
    {
     "data": {
      "image/png": "[encoded data removed]",
      "text/plain": [
       "<matplotlib.figure.Figure at 0x7f01fc2c9090>"
      ]
     },
     "metadata": {},
     "output_type": "display_data"
    },
    {
     "name": "stdout",
     "output_type": "stream",
     "text": [
      "Predicted count rate of 1.16601419299 counts/orbit by Average Energy Method.\n",
      "Predicted count rate of 0.964925828431 counts/orbit by Simpson's Rule.\n",
      "Predicted count rate of 1.06777768929 counts/orbit by Modified Simpson's Rule.\n"
     ]
    }
   ],
   "source": [
    "##########################################################################################\n",
    "# Compute the Differential and Integral Count Rates\n",
    "\n",
    "def effEnergy(Energy1,Energy2):\n",
    "    effEnergy1 = np.log(Energy2/Energy1)/(1./Energy1-1./Energy2)\n",
    "    effEnergy2 = 1./((effEnergy1**2)*(1./Energy1-1./Energy2))\n",
    "    return effEnergy1,effEnergy2    # effEnergy1 = 1./(<E>^2 * (1/E1 - 1/E2))\n",
    "\n",
    "diffCountRate = G_Pair*ETFlux  # Differential count rate\n",
    "intCountRate_trial = simps(diffCountRate)    # Simple Simpson's rule for calculating integral count rate\n",
    "\n",
    "dE = 0\n",
    "intCountRate_trial_2 = np.array([])\n",
    "\n",
    "for i in range(0,len(InputEnergies)-1):    # Modified Simpson's rule with variable energy spacing\n",
    "    dE = Energies_MeV[i+1]-Energies_MeV[i]\n",
    "    Counts = simps(diffCountRate[i:i+2], Energies_MeV[i:i+2])#dx=dE) ## Using dE or Energies_MeV gives the same answer\n",
    "    intCountRate_trial_2 = np.append(intCountRate_trial_2,Counts)\n",
    "    \n",
    "intCountRate_trial2 = sum(intCountRate_trial_2)\n",
    "                                    \n",
    "inEnergy1 = 1.*Energies_MeV[0:45]\n",
    "inEnergy2 = 1.*Energies_MeV[1:46]\n",
    "\n",
    "[effecEnergy1,effecEnergy2] = effEnergy(inEnergy1,inEnergy2)    # <E>\n",
    "\n",
    "diffCountRate1 = diffCountRate[0:45]/effecEnergy2\n",
    "diffCountRate2 = diffCountRate[0:45]*effecEnergy1\n",
    "\n",
    "revDiffCountRate1 = diffCountRate1[::-1]\n",
    "revDiffCountRate2 = diffCountRate2[::-1]\n",
    "\n",
    "intCountRate1 = np.array([])\n",
    "intCountRate2 = np.array([])\n",
    "\n",
    "for i in range(0,len(diffCountRate)):\n",
    "    counts = sum(revDiffCountRate1[0:i])\n",
    "    intCountRate1 = np.append(intCountRate1, counts)\n",
    "\n",
    "for i in range(0,len(diffCountRate)):\n",
    "    counts = sum(revDiffCountRate2[0:i])\n",
    "    intCountRate2 = np.append(intCountRate2, counts)\n",
    "    \n",
    "intCountRate1 = intCountRate1[::-1]\n",
    "intCountRate2 = intCountRate2[::-1]\n",
    "\n",
    "\n",
    "##########################################################################################\n",
    "# Plot the differential count rate\n",
    "figD, axD = plt.subplots(1,1)\n",
    "plt.loglog(Energies_MeV,diffCountRate,'b.-')\n",
    "\n",
    "axD.set_ylabel(r'Differential Count Rate (ph s$^{-1}$ MeV$^{-1}$)')\n",
    "axD.set_xlabel('Incident Photon Energy (MeV)')\n",
    "axD.set_ylim(1e-9, 1e-4)\n",
    "axD.set_xlim(1, 1000)\n",
    "\n",
    "plt.tight_layout()\n",
    "\n",
    "file_figD = 'Differential_Count_Rate.pdf'\n",
    "plt.savefig(DataFolder + file_figD, bbox_inches=\"tight\")\n",
    "print 'Plot saved to: ' + (DataFolder+file_figD)\n",
    "\n",
    "plt.show(figD)\n",
    "\n",
    "\n",
    "##########################################################################################\n",
    "# Plot the Integral Count Rate\n",
    "figI, axI = plt.subplots(1,1)\n",
    "plt.loglog(Energies_MeV[:len(Energies_MeV)],intCountRate1,'b.-')\n",
    "\n",
    "# Figure Properties\n",
    "axI.set_ylabel(r'Integral Count Rate (ph s$^{-1}$)')  \n",
    "axI.set_xlabel('Incident Photon Energy (MeV)') \n",
    "axI.set_ylim(1e-7, 1e-3)\n",
    "axI.set_xlim(1e-2, 1000)\n",
    "\n",
    "# Tight Layout\n",
    "plt.tight_layout()\n",
    "\n",
    "# Save the figure \n",
    "file_figI = 'Integral_Count_Rate.pdf'\n",
    "plt.savefig(DataFolder + file_figI, bbox_inches=\"tight\")\n",
    "print 'Plot saved to: ' + (DataFolder+file_figI)\n",
    "\n",
    "# Show the figure\n",
    "plt.show(figI)\n",
    "\n",
    "print \"Predicted count rate of\", max(intCountRate1)*60*92.6318, \"counts/orbit by Average Energy Method.\"\n",
    "print \"Predicted count rate of\", intCountRate_trial*60*92.6318, \"counts/orbit by Simpson's Rule.\"\n",
    "print \"Predicted count rate of\", intCountRate_trial2*60*92.6318, \"counts/orbit by Modified Simpson's Rule.\""
   ]
  },
  {
   "cell_type": "code",
   "execution_count": 37,
   "metadata": {
    "collapsed": false
   },
   "outputs": [
    {
     "name": "stdout",
     "output_type": "stream",
     "text": [
      "Plot saved to: ../G4AdEPTCubeSat_Results/Gammas/Geometric_Factor_Error_Gamma.pdf\n"
     ]
    },
    {
     "data": {
      "image/png": "[encoded data removed]",
      "text/plain": [
       "<matplotlib.figure.Figure at 0x7f01fde2cb50>"
      ]
     },
     "metadata": {},
     "output_type": "display_data"
    }
   ],
   "source": [
    "##########################################################################################\n",
    "# Plot the error in the Geometry Factor over a range of particle energies\n",
    "figE, axE = plt.subplots(1,1)\n",
    "\n",
    "plt.plot(Data[:,0]/1000., relErr_G_Pair, 'b.:', linewidth=0.75, label=\"Pair Production\")\n",
    "plt.semilogx(Data[:,0]/1000., relErr_G_Total, 'k.-', linewidth=0.75, label=\"Total\")\n",
    "\n",
    "# Figure Properties\n",
    "axE.set_ylabel(r'Relative Error')  \n",
    "axE.set_xlabel('Incident Photon Energy (MeV)') \n",
    "# axE.set_ylim(0., 0.05)\n",
    "# axE.set_xlim(0.1, 1001)\n",
    "\n",
    "axE.legend(loc='upper left')\n",
    "\n",
    "# Tight Layout\n",
    "plt.tight_layout()\n",
    "\n",
    "# Save the figure \n",
    "file_figE = 'Geometric_Factor_Error_Gamma.pdf'\n",
    "plt.savefig(DataFolder + file_figE, bbox_inches=\"tight\")\n",
    "print 'Plot saved to: ' + (DataFolder+file_figE)\n",
    "\n",
    "# Show the figure\n",
    "plt.show(figE)\n"
   ]
  },
  {
   "cell_type": "code",
   "execution_count": null,
   "metadata": {
    "collapsed": true
   },
   "outputs": [],
   "source": []
  }
 ],
 "metadata": {
  "kernelspec": {
   "display_name": "Python 2",
   "language": "python",
   "name": "python2"
  },
  "language_info": {
   "codemirror_mode": {
    "name": "ipython",
    "version": 2
   },
   "file_extension": ".py",
   "mimetype": "text/x-python",
   "name": "python",
   "nbconvert_exporter": "python",
   "pygments_lexer": "ipython2",
   "version": "2.7.11"
  }
 },
 "nbformat": 4,
 "nbformat_minor": 0
}
