{
 "cells": [
  {
   "cell_type": "code",
   "execution_count": 1,
   "metadata": {
    "collapsed": false
   },
   "outputs": [
    {
     "name": "stdout",
     "output_type": "stream",
     "text": [
      "Done\n"
     ]
    }
   ],
   "source": [
    "# Matplotlib - 2D plotting library\n",
    "from matplotlib import pyplot as plt\n",
    "from matplotlib import rcParams\n",
    "\n",
    "# Show matplotlib figures inline the notebook\n",
    "%matplotlib inline\n",
    "\n",
    "# Pandas - High-performance data analysis\n",
    "import pandas\n",
    "\n",
    "# Glob - Unix style pathname pattern expansion\n",
    "# Used to aggregate folders and files into a single list so they can be iterated over\n",
    "import glob\n",
    "\n",
    "# Numpy - For handling of large, multi-dimensional arrays and matrices\n",
    "import numpy as np\n",
    "from numpy.linalg import solve\n",
    "\n",
    "# Scipy - For accurate integration\n",
    "from scipy.integrate import simps\n",
    "from scipy.integrate import trapz\n",
    "from scipy.optimize import curve_fit\n",
    "import scipy.odr as sc\n",
    "\n",
    "import csv\n",
    "\n",
    "print 'Done'"
   ]
  },
  {
   "cell_type": "code",
   "execution_count": 2,
   "metadata": {
    "collapsed": false
   },
   "outputs": [
    {
     "name": "stdout",
     "output_type": "stream",
     "text": [
      "[    100     200     300     400     500     600     700     800     900\n",
      "    1000    1100    1200    1300    1400    1500    1600    1700    1800\n",
      "    1900    2000    3000    4000    5000    6000    7000    8000    9000\n",
      "   10000   20000   30000   40000   50000   60000   70000   80000   90000\n",
      "  100000  200000  300000  400000  500000  600000  700000  800000  900000\n",
      " 1000000]\n"
     ]
    }
   ],
   "source": [
    "##########################################################################################\n",
    "# Energy of incident (input) particles\n",
    "InputEnergies = np.array([#np.linspace(10,90, num=9, endpoint=True, dtype = int),\n",
    "                          np.linspace(100,900, num=9, endpoint=True, dtype = int),\n",
    "                          np.linspace(1100,1900, num=9, endpoint=True, dtype = int),\n",
    "                          np.linspace(1000,9000, num=9, endpoint=True, dtype = int),\n",
    "                          np.linspace(10000,90000, num=9, endpoint=True, dtype = int),\n",
    "                          np.linspace(100000,900000, num=9, endpoint=True, dtype = int),\n",
    "                            ]).flatten()\n",
    "\n",
    "# Folder containing simulation data\n",
    "DataFolder = '../G4AdEPTCubeSat_Results/Gammas/'\n",
    "\n",
    "# Arrange the array into the proper order\n",
    "InputEnergies = np.delete(InputEnergies,18)\n",
    "InputEnergies = np.insert(InputEnergies, [9], [1000])\n",
    "InputEnergies = np.insert(InputEnergies, [45], [1000000])\n",
    "# InputEnergies = np.delete(InputEnergies,27)\n",
    "# InputEnergies = np.insert(InputEnergies, [18], [1000])\n",
    "# InputEnergies = np.insert(InputEnergies, [54], [1000000])\n",
    "# ##########################################################################################\n",
    "# Energy thresholds (in eV) for events that will be included in the analysis\n",
    "Thr_Gas = 100.\n",
    "print InputEnergies"
   ]
  },
  {
   "cell_type": "code",
   "execution_count": 3,
   "metadata": {
    "collapsed": false
   },
   "outputs": [
    {
     "name": "stdout",
     "output_type": "stream",
     "text": [
      "gamma_Data.csv written to ../G4AdEPTCubeSat_Results/Gamma_Data/\n",
      "\n",
      "\n",
      "File writing completed\n"
     ]
    }
   ],
   "source": [
    "##########################################################################################\n",
    "# Load the simulation data for each input energy\n",
    "Data = []\n",
    "n = 0\n",
    "for InputEnergy in InputEnergies:\n",
    "    # Create data file template from current energy \n",
    "    DataFilename = 'gamma_' + str(InputEnergy) + 'keV_Nr_100000000_ISO_nt_G4AdEPTCubeSat_t[0-7].csv'\n",
    "\n",
    "    # Statistics variables for each input energy data\n",
    "    nPos = 0\n",
    "    nElec = 0\n",
    "    nSubPos = 0\n",
    "    nSubElec = 0\n",
    "    nTotal = 0\n",
    "    nSubThr = 0\n",
    "    nCompton = 0\n",
    "    nPair = 0\n",
    "    nPhoto = 0\n",
    "    nTriton = 0\n",
    "\n",
    "    ##########################################################################################\n",
    "    # Process the simulation data files\n",
    "    # Column 0 - Total energy deposited in the sensitive gas volume [eV]\n",
    "    # Column 1 - Energy deposited by positrons in the sensitive gas volume [eV]\n",
    "    # Column 2 - Energy deposited by positrons in the sensitive gas volume [eV]\n",
    "    # Column 3 - Energy deposited by tritons in the sensitive gas volume [eV]\n",
    "    # Column 4 - Track length of particles in the sensitive gas volume [mm]\n",
    "    # Column 5 - Number of secondary electrons generated in the sensitive gas volume\n",
    "    # Column 6 - Number of secondary photons generated in the sensitive gas volume\n",
    "    # Column 7 - Number of secondary positrons generated in the sensitive gas volume\n",
    "    # Column 8 - Number of secondary tritons generated in the sensitive gas volume\n",
    "    for dataFile in glob.glob(DataFolder + DataFilename):\n",
    "        # Readout CSV files\n",
    "        try:\n",
    "            dataFrame = pandas.read_csv(dataFile, usecols=[0,1,2,3,4,5,6,7,8], comment=\"#\", error_bad_lines=False, skip_blank_lines=True).values\n",
    "\n",
    "            # Determine the interaction type\n",
    "            for i in range(1,len(dataFrame)):\n",
    "                if dataFrame[i,0] > Thr_Gas:\n",
    "    #                 if dataFrame[i,8] > 0:\n",
    "    #                     nTriton += 1\n",
    "                    if dataFrame[i,7] > 0 and dataFrame[i,5] > 0:\n",
    "                        nPair += 1\n",
    "                    else:\n",
    "                        if dataFrame[i,6] > 0. and dataFrame[i,5] > 0.:\n",
    "                            nCompton += 1\n",
    "                        else:\n",
    "                            nPhoto += 1\n",
    "\n",
    "            # Increment statistics\n",
    "            nPos += dataFrame[(dataFrame[:,1] > Thr_Gas),0].size\n",
    "            nElec += dataFrame[(dataFrame[:,2] > Thr_Gas),0].size\n",
    "            nSubPos += dataFrame[(dataFrame[:,1] <= Thr_Gas),0].size\n",
    "            nSubElec += dataFrame[(dataFrame[:,2] <= Thr_Gas),0].size\n",
    "            nTotal += dataFrame[(dataFrame[:,0] > Thr_Gas),0].size\n",
    "            nSubThr += dataFrame[(dataFrame[:,0] <= Thr_Gas),0].size\n",
    "            \n",
    "        except:\n",
    "            pass\n",
    "        \n",
    "    # Add statistics to data list (Convert to numpy array later)\n",
    "    Data.append([InputEnergy,nPos,nElec,nSubPos,nSubElec,nTotal,nSubThr,nCompton,nPair,nPhoto,nTriton])\n",
    "    \n",
    "# Convert statistics list to Numpy array\n",
    "df = pandas.DataFrame(data=Data)\n",
    "DataFolder2 = '../G4AdEPTCubeSat_Results/Gamma_Data/'\n",
    "newFile = 'gamma_Data.csv'   \n",
    "df.to_csv(DataFolder2+newFile)\n",
    "print str(newFile) + \" written to \" + str(DataFolder2)\n",
    "\n",
    "Data = np.asarray(Data)\n",
    "print '\\n'\n",
    "print 'File writing completed'\n",
    "# print Data"
   ]
  },
  {
   "cell_type": "code",
   "execution_count": null,
   "metadata": {
    "collapsed": true
   },
   "outputs": [],
   "source": []
  }
 ],
 "metadata": {
  "kernelspec": {
   "display_name": "Python 2",
   "language": "python",
   "name": "python2"
  },
  "language_info": {
   "codemirror_mode": {
    "name": "ipython",
    "version": 2
   },
   "file_extension": ".py",
   "mimetype": "text/x-python",
   "name": "python",
   "nbconvert_exporter": "python",
   "pygments_lexer": "ipython2",
   "version": "2.7.11"
  }
 },
 "nbformat": 4,
 "nbformat_minor": 0
}
